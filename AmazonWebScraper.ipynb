{
 "cells": [
  {
   "cell_type": "code",
   "execution_count": 25,
   "id": "b909b8a4",
   "metadata": {},
   "outputs": [
    {
     "name": "stdout",
     "output_type": "stream",
     "text": [
      "\n",
      "                   Friday the 13th Part VIII: Jason Takes Manhattan Kanji Text Short-Sleeve T-Shirt\n",
      "                  \n",
      "21.99\n"
     ]
    }
   ],
   "source": [
    "#import libraries\n",
    "\n",
    "from bs4 import BeautifulSoup\n",
    "import requests \n",
    "import smtplib\n",
    "import time\n",
    "import datetime\n",
    "import re\n",
    "import csv\n",
    "import datetime\n",
    "import pandas as pd\n",
    "\n",
    "URL = \"https://www.amazon.com/dp/B07SQRY63T/ref=syn_sd_onsite_desktop_464?ie=UTF8&psc=1&pd_rd_plhdr=t\"\n",
    "\n",
    "headers = {\"User-Agent\": \"Mozilla/5.0 (Windows NT 10.0; Win64; x64) AppleWebKit/537.36 (KHTML, like Gecko) Chrome/78.0.3904.108 Safari/537.36\", \"Accept-Encoding\":\"gzip, deflate\", \"Accept\":\"text/html,application/xhtml+xml,application/xml;q=0.9,*/*;q=0.8\", \"DNT\":\"1\",\"Connection\":\"close\", \"Upgrade-Insecure-Requests\":\"1\"}\n",
    "\n",
    "page = requests.get(URL, headers=headers)\n",
    "\n",
    "soup1 = BeautifulSoup(page.content, \"html.parser\")\n",
    "\n",
    "soup2 = BeautifulSoup(soup1.prettify(), \"html.parser\")\n",
    "\n",
    "title = soup2.find(id='productTitle').get_text()\n",
    "\n",
    "price_html = soup2.find_all(\"span\", {\"class\": \"a-price a-text-price a-size-medium apexPriceToPay\"})\n",
    "price_str = price_html[0].text\n",
    "pattern = r\"([0-9]+\\.[0-9]+)\" \n",
    "result = re.findall(pattern, price_str)\n",
    "price = result[0]\n",
    "\n",
    "\n",
    "print(title)\n",
    "print(price)\n"
   ]
  },
  {
   "cell_type": "code",
   "execution_count": 37,
   "id": "ae4f6f16",
   "metadata": {},
   "outputs": [
    {
     "name": "stdout",
     "output_type": "stream",
     "text": [
      "Friday the 13th Part VIII: Jason Takes Manhattan Kanji Text Short-Sleeve T-Shirt\n",
      "2022-12-22\n"
     ]
    }
   ],
   "source": [
    "title = title.strip()\n",
    "print(title)\n",
    "type(price)\n",
    "today = datetime.date.today()\n",
    "print(today)"
   ]
  },
  {
   "cell_type": "code",
   "execution_count": 39,
   "id": "c07785b9",
   "metadata": {},
   "outputs": [],
   "source": [
    "header = [\"Title\", \"Price\",\"Date\"]\n",
    "data = [title,price,today]\n",
    "\n",
    "with open(\"AmazonWebScraperDataset.csv\",\"w\", newline = \"\", encoding = \"UTF8\") as f:\n",
    "    writer = csv.writer(f)\n",
    "    writer.writerow(header)\n",
    "    writer.writerow(data)\n",
    "    \n"
   ]
  },
  {
   "cell_type": "code",
   "execution_count": 35,
   "id": "20b6856f",
   "metadata": {},
   "outputs": [
    {
     "name": "stdout",
     "output_type": "stream",
     "text": [
      "                                                    Title       Price\n",
      "Friday the 13th Part VIII: Jason Takes Manhatta...  21.99  2022-12-22\n"
     ]
    }
   ],
   "source": [
    "df = pd.read_csv(r\"C:\\Users\\Marta Espinosa\\AmazonWebScraperDataset.csv\")\n",
    "print(df)"
   ]
  },
  {
   "cell_type": "code",
   "execution_count": 36,
   "id": "16a69088",
   "metadata": {},
   "outputs": [],
   "source": [
    "# Append data to the csv\n",
    "\n",
    "# with open(\"AmazonWebScraperDataset.csv\",\"w\", newline = \"\", encoding = \"UTF8\") as f:\n",
    "   # writer = csv.writer(f)\n",
    "   # writer.writerow(data)"
   ]
  },
  {
   "cell_type": "code",
   "execution_count": 42,
   "id": "f0b0d180",
   "metadata": {},
   "outputs": [],
   "source": [
    "def check_price():\n",
    "    URL = \"https://www.amazon.com/dp/B07SQRY63T/ref=syn_sd_onsite_desktop_464?ie=UTF8&psc=1&pd_rd_plhdr=t\"\n",
    "\n",
    "    headers = {\"User-Agent\": \"Mozilla/5.0 (Windows NT 10.0; Win64; x64) AppleWebKit/537.36 (KHTML, like Gecko) Chrome/78.0.3904.108 Safari/537.36\", \"Accept-Encoding\":\"gzip, deflate\", \"Accept\":\"text/html,application/xhtml+xml,application/xml;q=0.9,*/*;q=0.8\", \"DNT\":\"1\",\"Connection\":\"close\", \"Upgrade-Insecure-Requests\":\"1\"}\n",
    "\n",
    "    page = requests.get(URL, headers=headers)\n",
    "\n",
    "    soup1 = BeautifulSoup(page.content, \"html.parser\")\n",
    "\n",
    "    soup2 = BeautifulSoup(soup1.prettify(), \"html.parser\")\n",
    "\n",
    "    title = soup2.find(id='productTitle').get_text()\n",
    "\n",
    "    price_html = soup2.find_all(\"span\", {\"class\": \"a-price a-text-price a-size-medium apexPriceToPay\"})\n",
    "    price_str = price_html[0].text\n",
    "    pattern = r\"([0-9]+\\.[0-9]+)\" \n",
    "    result = re.findall(pattern, price_str)\n",
    "    price = result[0]\n",
    "    \n",
    "    title = title.strip()\n",
    "    \n",
    "    today = datetime.date.today()\n",
    "    \n",
    "    header = [\"Title\", \"Price\",\"Date\"]\n",
    "    data = [title,price,today]\n",
    "\n",
    "    with open(\"AmazonWebScraperDataset.csv\",\"a+\", newline = \"\", encoding = \"UTF8\") as f:\n",
    "        writer = csv.writer(f)\n",
    "        writer.writerow(data)\n",
    "        \n",
    "    \n",
    "    \n",
    "    "
   ]
  },
  {
   "cell_type": "code",
   "execution_count": null,
   "id": "7fac9561",
   "metadata": {},
   "outputs": [],
   "source": [
    "while True:\n",
    "    check_price()\n",
    "    time.sleep(86400)"
   ]
  },
  {
   "cell_type": "code",
   "execution_count": null,
   "id": "537c638b",
   "metadata": {},
   "outputs": [],
   "source": [
    "df = pd.read_csv(r\"C:\\Users\\Marta Espinosa\\AmazonWebScraperDataset.csv\")\n",
    "print(df)"
   ]
  }
 ],
 "metadata": {
  "kernelspec": {
   "display_name": "Python 3 (ipykernel)",
   "language": "python",
   "name": "python3"
  },
  "language_info": {
   "codemirror_mode": {
    "name": "ipython",
    "version": 3
   },
   "file_extension": ".py",
   "mimetype": "text/x-python",
   "name": "python",
   "nbconvert_exporter": "python",
   "pygments_lexer": "ipython3",
   "version": "3.9.12"
  }
 },
 "nbformat": 4,
 "nbformat_minor": 5
}
